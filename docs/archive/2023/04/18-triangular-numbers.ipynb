{
 "cells": [
  {
   "attachments": {},
   "cell_type": "markdown",
   "metadata": {},
   "source": [
    "# The Principle of Mathematical Induction\n",
    "\n",
    "Due to time constraints, I will have to postpone expanding on the Galton board/binomial coefficient material. So, just a quick post today: a neat little piece of math that introduces the principle of mathematical induction and a cool geometric proof. This does tie into the binomial distribution/galton board stuff in an interesting way that I will tease at the end."
   ]
  },
  {
   "attachments": {},
   "cell_type": "markdown",
   "metadata": {},
   "source": [
    "## A Motivating Example\n",
    "\n",
    "Imagine you want to know what the sum of the first $n$ whole numbers is:\n",
    "$$\\begin{align*}\n",
    "    t_n &= 0 + 1 + 2 + 3 + \\cdots + n \\\\\n",
    "    &= \\sum_{i = 0}^n i\n",
    "\\end{align*}$$\n",
    "\n",
    "You could just sum them up every time, but what if you wanted to jump straight to $n = 50$? Adding them all up would take quite a while. Wouldn't it be nice if there was a formula? Why don't we try drawing a picture to get some insight:"
   ]
  },
  {
   "cell_type": "code",
   "execution_count": 2,
   "metadata": {},
   "outputs": [],
   "source": [
    "%load_ext itikz"
   ]
  },
  {
   "cell_type": "code",
   "execution_count": 4,
   "metadata": {},
   "outputs": [
    {
     "data": {
      "image/svg+xml": [
       "<svg xmlns=\"http://www.w3.org/2000/svg\" xmlns:xlink=\"http://www.w3.org/1999/xlink\" width=\"136.255pt\" height=\"145.753pt\" viewBox=\"0 0 136.255 145.753\" version=\"1.1\">\n",
       "<defs>\n",
       "<g>\n",
       "<symbol overflow=\"visible\" id=\"glyph0-0\">\n",
       "<path style=\"stroke:none;\" d=\"\"/>\n",
       "</symbol>\n",
       "<symbol overflow=\"visible\" id=\"glyph0-1\">\n",
       "<path style=\"stroke:none;\" d=\"M 0.875 -0.59375 C 0.84375 -0.4375 0.78125 -0.203125 0.78125 -0.15625 C 0.78125 0.015625 0.921875 0.109375 1.078125 0.109375 C 1.203125 0.109375 1.375 0.03125 1.453125 -0.171875 C 1.453125 -0.1875 1.578125 -0.65625 1.640625 -0.90625 L 1.859375 -1.796875 C 1.90625 -2.03125 1.96875 -2.25 2.03125 -2.46875 C 2.0625 -2.640625 2.140625 -2.9375 2.15625 -2.96875 C 2.296875 -3.28125 2.828125 -4.1875 3.78125 -4.1875 C 4.234375 -4.1875 4.3125 -3.8125 4.3125 -3.484375 C 4.3125 -2.875 3.828125 -1.59375 3.671875 -1.171875 C 3.578125 -0.9375 3.5625 -0.8125 3.5625 -0.703125 C 3.5625 -0.234375 3.921875 0.109375 4.390625 0.109375 C 5.328125 0.109375 5.6875 -1.34375 5.6875 -1.421875 C 5.6875 -1.53125 5.609375 -1.53125 5.578125 -1.53125 C 5.46875 -1.53125 5.46875 -1.5 5.421875 -1.34375 C 5.21875 -0.671875 4.890625 -0.109375 4.40625 -0.109375 C 4.234375 -0.109375 4.171875 -0.203125 4.171875 -0.4375 C 4.171875 -0.6875 4.25 -0.921875 4.34375 -1.140625 C 4.53125 -1.671875 4.953125 -2.765625 4.953125 -3.34375 C 4.953125 -4 4.53125 -4.40625 3.8125 -4.40625 C 2.90625 -4.40625 2.421875 -3.765625 2.25 -3.53125 C 2.203125 -4.09375 1.796875 -4.40625 1.328125 -4.40625 C 0.875 -4.40625 0.6875 -4.015625 0.59375 -3.84375 C 0.421875 -3.5 0.296875 -2.90625 0.296875 -2.875 C 0.296875 -2.765625 0.390625 -2.765625 0.40625 -2.765625 C 0.515625 -2.765625 0.515625 -2.78125 0.578125 -3 C 0.75 -3.703125 0.953125 -4.1875 1.3125 -4.1875 C 1.5 -4.1875 1.609375 -4.0625 1.609375 -3.734375 C 1.609375 -3.515625 1.578125 -3.40625 1.453125 -2.890625 Z M 0.875 -0.59375 \"/>\n",
       "</symbol>\n",
       "<symbol overflow=\"visible\" id=\"glyph1-0\">\n",
       "<path style=\"stroke:none;\" d=\"\"/>\n",
       "</symbol>\n",
       "<symbol overflow=\"visible\" id=\"glyph1-1\">\n",
       "<path style=\"stroke:none;\" d=\"M 4.078125 -2.296875 L 6.859375 -2.296875 C 7 -2.296875 7.1875 -2.296875 7.1875 -2.5 C 7.1875 -2.6875 7 -2.6875 6.859375 -2.6875 L 4.078125 -2.6875 L 4.078125 -5.484375 C 4.078125 -5.625 4.078125 -5.8125 3.875 -5.8125 C 3.671875 -5.8125 3.671875 -5.625 3.671875 -5.484375 L 3.671875 -2.6875 L 0.890625 -2.6875 C 0.75 -2.6875 0.5625 -2.6875 0.5625 -2.5 C 0.5625 -2.296875 0.75 -2.296875 0.890625 -2.296875 L 3.671875 -2.296875 L 3.671875 0.5 C 3.671875 0.640625 3.671875 0.828125 3.875 0.828125 C 4.078125 0.828125 4.078125 0.640625 4.078125 0.5 Z M 4.078125 -2.296875 \"/>\n",
       "</symbol>\n",
       "<symbol overflow=\"visible\" id=\"glyph1-2\">\n",
       "<path style=\"stroke:none;\" d=\"M 2.9375 -6.375 C 2.9375 -6.625 2.9375 -6.640625 2.703125 -6.640625 C 2.078125 -6 1.203125 -6 0.890625 -6 L 0.890625 -5.6875 C 1.09375 -5.6875 1.671875 -5.6875 2.1875 -5.953125 L 2.1875 -0.78125 C 2.1875 -0.421875 2.15625 -0.3125 1.265625 -0.3125 L 0.953125 -0.3125 L 0.953125 0 C 1.296875 -0.03125 2.15625 -0.03125 2.5625 -0.03125 C 2.953125 -0.03125 3.828125 -0.03125 4.171875 0 L 4.171875 -0.3125 L 3.859375 -0.3125 C 2.953125 -0.3125 2.9375 -0.421875 2.9375 -0.78125 Z M 2.9375 -6.375 \"/>\n",
       "</symbol>\n",
       "</g>\n",
       "<clipPath id=\"clip1\">\n",
       "  <path d=\"M 27 105 L 136.253906 105 L 136.253906 145.753906 L 27 145.753906 Z M 27 105 \"/>\n",
       "</clipPath>\n",
       "</defs>\n",
       "<g id=\"surface1\">\n",
       "<path style=\"fill:none;stroke-width:0.3985;stroke-linecap:butt;stroke-linejoin:miter;stroke:rgb(100%,100%,100%);stroke-opacity:1;stroke-miterlimit:10;\" d=\"M -0.00003125 0.000125 L -0.00003125 -28.347531 Z M -0.00003125 0.000125 \" transform=\"matrix(1,0,0,-1,50.418,0.797)\"/>\n",
       "<path style=\"fill-rule:nonzero;fill:rgb(0%,0%,100%);fill-opacity:1;stroke-width:0.3985;stroke-linecap:butt;stroke-linejoin:miter;stroke:rgb(100%,100%,100%);stroke-opacity:1;stroke-miterlimit:10;\" d=\"M -0.00003125 -28.347531 L -0.00003125 -56.695188 L 28.347625 -56.695188 L 28.347625 -28.347531 Z M -0.00003125 -28.347531 \" transform=\"matrix(1,0,0,-1,50.418,0.797)\"/>\n",
       "<path style=\"fill-rule:nonzero;fill:rgb(0%,0%,100%);fill-opacity:1;stroke-width:0.3985;stroke-linecap:butt;stroke-linejoin:miter;stroke:rgb(100%,100%,100%);stroke-opacity:1;stroke-miterlimit:10;\" d=\"M -0.00003125 -56.695188 L -0.00003125 -85.038938 L 56.695281 -85.038938 L 56.695281 -56.695188 Z M -0.00003125 -56.695188 \" transform=\"matrix(1,0,0,-1,50.418,0.797)\"/>\n",
       "<path style=\"fill-rule:nonzero;fill:rgb(0%,0%,100%);fill-opacity:1;stroke-width:0.3985;stroke-linecap:butt;stroke-linejoin:miter;stroke:rgb(100%,100%,100%);stroke-opacity:1;stroke-miterlimit:10;\" d=\"M -0.00003125 -85.038938 L -0.00003125 -113.386594 L 85.039031 -113.386594 L 85.039031 -85.038938 Z M -0.00003125 -85.038938 \" transform=\"matrix(1,0,0,-1,50.418,0.797)\"/>\n",
       "<path style=\"fill-rule:nonzero;fill:rgb(100%,0%,0%);fill-opacity:1;stroke-width:0.3985;stroke-linecap:butt;stroke-linejoin:miter;stroke:rgb(100%,100%,100%);stroke-opacity:1;stroke-miterlimit:10;\" d=\"M -0.00003125 0.000125 L -0.00003125 -28.347531 L 85.039031 -28.347531 L 85.039031 0.000125 Z M -0.00003125 0.000125 \" transform=\"matrix(1,0,0,-1,50.418,0.797)\"/>\n",
       "<path style=\"fill-rule:nonzero;fill:rgb(100%,0%,0%);fill-opacity:1;stroke-width:0.3985;stroke-linecap:butt;stroke-linejoin:miter;stroke:rgb(100%,100%,100%);stroke-opacity:1;stroke-miterlimit:10;\" d=\"M 28.347625 -28.347531 L 28.347625 -56.695188 L 85.039031 -56.695188 L 85.039031 -28.347531 Z M 28.347625 -28.347531 \" transform=\"matrix(1,0,0,-1,50.418,0.797)\"/>\n",
       "<path style=\"fill-rule:nonzero;fill:rgb(100%,0%,0%);fill-opacity:1;stroke-width:0.3985;stroke-linecap:butt;stroke-linejoin:miter;stroke:rgb(100%,100%,100%);stroke-opacity:1;stroke-miterlimit:10;\" d=\"M 56.695281 -56.695188 L 56.695281 -85.038938 L 85.039031 -85.038938 L 85.039031 -56.695188 Z M 56.695281 -56.695188 \" transform=\"matrix(1,0,0,-1,50.418,0.797)\"/>\n",
       "<path style=\"fill:none;stroke-width:0.3985;stroke-linecap:butt;stroke-linejoin:miter;stroke:rgb(100%,100%,100%);stroke-opacity:1;stroke-miterlimit:10;\" d=\"M 85.039031 -85.038938 L 85.039031 -113.386594 Z M 85.039031 -85.038938 \" transform=\"matrix(1,0,0,-1,50.418,0.797)\"/>\n",
       "<path style=\"fill:none;stroke-width:1.59404;stroke-linecap:butt;stroke-linejoin:miter;stroke:rgb(100%,100%,100%);stroke-opacity:1;stroke-miterlimit:10;\" d=\"M -14.171906 -113.386594 C -14.921906 -113.0155 -15.418 -112.1405 -15.418 -110.898313 L -15.418 -59.183469 C -15.418 -57.937375 -15.918 -57.066281 -16.664094 -56.695188 C -15.918 -56.320188 -15.418 -55.449094 -15.418 -54.203 L -15.418 -2.492063 C -15.418 -1.245969 -14.921906 -0.374875 -14.171906 0.000125 \" transform=\"matrix(1,0,0,-1,50.418,0.797)\"/>\n",
       "<g style=\"fill:rgb(100%,100%,100%);fill-opacity:1;\">\n",
       "  <use xlink:href=\"#glyph0-1\" x=\"3.321\" y=\"60.285\"/>\n",
       "</g>\n",
       "<g style=\"fill:rgb(100%,100%,100%);fill-opacity:1;\">\n",
       "  <use xlink:href=\"#glyph1-1\" x=\"11.514\" y=\"60.285\"/>\n",
       "</g>\n",
       "<g style=\"fill:rgb(100%,100%,100%);fill-opacity:1;\">\n",
       "  <use xlink:href=\"#glyph1-2\" x=\"21.474607\" y=\"60.285\"/>\n",
       "</g>\n",
       "<g clip-path=\"url(#clip1)\" clip-rule=\"nonzero\">\n",
       "<path style=\"fill:none;stroke-width:1.59404;stroke-linecap:butt;stroke-linejoin:miter;stroke:rgb(100%,100%,100%);stroke-opacity:1;stroke-miterlimit:10;\" d=\"M 85.039031 -127.562375 C 84.667937 -128.308469 83.796844 -128.804563 82.55075 -128.804563 L 45.011688 -128.804563 C 43.765594 -128.804563 42.8945 -129.304563 42.5195 -130.050656 C 42.148406 -129.304563 41.273406 -128.804563 40.031219 -128.804563 L 2.492156 -128.804563 C 1.246063 -128.804563 0.374969 -128.308469 -0.00003125 -127.562375 \" transform=\"matrix(1,0,0,-1,50.418,0.797)\"/>\n",
       "</g>\n",
       "<g style=\"fill:rgb(100%,100%,100%);fill-opacity:1;\">\n",
       "  <use xlink:href=\"#glyph0-1\" x=\"89.948\" y=\"142.432\"/>\n",
       "</g>\n",
       "</g>\n",
       "</svg>"
      ],
      "text/plain": [
       "<IPython.core.display.SVG object>"
      ]
     },
     "execution_count": 4,
     "metadata": {},
     "output_type": "execute_result"
    }
   ],
   "source": [
    "%%itikz --implicit-pic --tikz-libraries=decorations.pathreplacing,calligraphy\n",
    "\\draw[color=white,fill=blue] (0, 0) rectangle (0, -1);\n",
    "\\draw[color=white,fill=blue] (0, -1) rectangle (1, -2);\n",
    "\\draw[color=white,fill=blue] (0, -2) rectangle (2, -3);\n",
    "\\draw[color=white,fill=blue] (0, -3) rectangle (3, -4);\n",
    "\n",
    "\\draw[color=white,fill=red] (0, 0) rectangle (3, -1);\n",
    "\\draw[color=white,fill=red] (1, -1) rectangle (3, -2);\n",
    "\\draw[color=white,fill=red] (2, -2) rectangle (3, -3);\n",
    "\\draw[color=white,fill=red] (3, -3) rectangle (3, -4);\n",
    "\n",
    "\\draw[white, ultra thick, decorate, decoration={brace}] (-0.5, -4) -- node[left=2mm]{$n + 1$} (-0.5, 0);\n",
    "\\draw[white, ultra thick, decorate, decoration={brace}] (3, -4.5) -- node[below=2mm]{$n$} (0, -4.5);"
   ]
  },
  {
   "attachments": {},
   "cell_type": "markdown",
   "metadata": {},
   "source": [
    "The preceding diagram represents adding whole numbers as areas. Focusing on just the blue area, starting the top-left, the line represents zero area, then a 1x1 square with 1 area, then 2, and finally 3. Since we add from 0 to $n$, the left side is $n + 1$ high. The bottom side is $n$ wide—the width of the last area being added. We want the area of just either the blue or the red $A(n)$. The red is just stacking the exact same blocks in the other direction, so has the same area as the blue. Therefore, the whole rectangle has an area of $2A(n)$. The are of of a rectangle is just the height times the width, i.e., $n(n + 1)$:\n",
    "$$\\begin{align*}\n",
    "    2A(n) &= n(n + 1) \\\\\n",
    "    A(n) & = \\frac{n(n + 1)}{2}\n",
    "\\end{align*}$$\n",
    "\n",
    "This looks like a promising formula for our sum, but how do we know it is right? How do we know it works for $n = 50$ or a 100? We can't check every number. It seems intuitively true, but how do we make it rigorous?"
   ]
  },
  {
   "attachments": {},
   "cell_type": "markdown",
   "metadata": {},
   "source": [
    "## The Principle of Mathematical Induction\n",
    "\n",
    "The principle of mathematical induction (PMI) is a lot simpler than is sounds or is often stated. In essence, it says, if we know something at one step, and we can show that we can always get the next step, we can use the step we know to get the next, the next to get the one after that, and so on.\n",
    "\n",
    "To start, we need to have the things we are comparing. We want to show:\n",
    "$$t_n = A(n)$$\n",
    "\n",
    "Next, we need our bottom step(s). This is called a **basis**. Our sequence starts at $n = 0$, so why not start there:\n",
    "$$\\begin{gather*}\n",
    "    t_0 = \\sum_{i = 0}^0 i = 0 \\\\\n",
    "    A(0) = \\frac{0(0 + 1)}{2} = 0\n",
    "\\end{gather*}$$\n",
    "\n",
    "Looks like they agree for $n = 0$. This is enough.\n",
    "\n",
    "Next, we need to show that given step $n = k$ where $k \\geq 0$, we can always find step $k + 1$. We know we can find $t_{k + 1}$, so we'll start there:\n",
    "$$\\begin{align*}\n",
    "    t_{k + 1} &= \\sum_{i = 0}^{k + 1} i \\\\\n",
    "    &= \\sum_{i = 0}^k i + (k + 1)\n",
    "\\end{align*}$$\n",
    "\n",
    "We pull out the last term, $k + 1$, from the sum and are left with another sum that is the definition for $t_k$. We know we have $t_k = A(k)$ for at least 1 $k \\geq 0$, so we can replace the formula:\n",
    "$$\\begin{align*}\n",
    "    &= t_k + (k + 1) \\\\\n",
    "    &= A(k) + (k + 1) \\\\\n",
    "    &= \\frac{k(k + 1)}{2} + (k + 1) \\\\\n",
    "\\end{align*}$$\n",
    "\n",
    "Now it is just some simple highschool algebra to find that this is equivalent to $A(k + 1)$:\n",
    "$$\\begin{align*}\n",
    "    &= \\frac{k^2 + k + 2k + 2}{2} \\\\\n",
    "    &= \\frac{k^2 + 3k + 2}{2} \\\\\n",
    "    &= \\frac{(k + 1)(k + 2)}{2} \\\\\n",
    "    &= \\frac{[k + 1]([k + 1] + 1)}{2} \\\\\n",
    "    t_{k + 1} &= A(k + 1)\n",
    "\\end{align*}$$"
   ]
  },
  {
   "attachments": {},
   "cell_type": "markdown",
   "metadata": {},
   "source": [
    "This is a simple, but pretty cool result. We took a simple, but at first pretty opaque problem, and found a hypothesis using a pretty straightforward, but not obvious picture. Then made it rigorous with a clever proof technique."
   ]
  },
  {
   "attachments": {},
   "cell_type": "markdown",
   "metadata": {},
   "source": [
    "## Triangular Numbers\n",
    "\n",
    "These numbers are called triangular numbers. This is from the fact that if you stack circles into a triangle, this is how many circles it takes to make a triangle with $n$ circles along a side. They tie into the galton board, because they are exactly the numbers you get when you take ${n \\choose 2}$ or ${n \\choose n - 2}$, i.e., how many balls fall into bin 2 or $n - 2$, given you drop $2^n$ balls into the Galton board."
   ]
  }
 ],
 "metadata": {
  "kernelspec": {
   "display_name": "blog",
   "language": "python",
   "name": "python3"
  },
  "language_info": {
   "codemirror_mode": {
    "name": "ipython",
    "version": 3
   },
   "file_extension": ".py",
   "mimetype": "text/x-python",
   "name": "python",
   "nbconvert_exporter": "python",
   "pygments_lexer": "ipython3",
   "version": "3.11.0"
  },
  "orig_nbformat": 4
 },
 "nbformat": 4,
 "nbformat_minor": 2
}
